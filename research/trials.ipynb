{
 "cells": [
  {
   "cell_type": "code",
   "id": "initial_id",
   "metadata": {
    "collapsed": true,
    "ExecuteTime": {
     "end_time": "2024-08-02T17:11:14.936140Z",
     "start_time": "2024-08-02T17:11:14.925208Z"
    }
   },
   "source": "import os",
   "outputs": [],
   "execution_count": 1
  },
  {
   "metadata": {
    "ExecuteTime": {
     "end_time": "2024-08-02T17:14:22.030028Z",
     "start_time": "2024-08-02T17:14:22.024368Z"
    }
   },
   "cell_type": "code",
   "source": [
    "# python config box\n",
    "\n",
    "d = {\"key1\": \"value1\", \"key2\": \"value2\", \"key3\": \"value3\"}"
   ],
   "id": "d8c1be010ddb6614",
   "outputs": [],
   "execution_count": 4
  },
  {
   "metadata": {
    "ExecuteTime": {
     "end_time": "2024-08-02T17:14:22.195209Z",
     "start_time": "2024-08-02T17:14:22.189986Z"
    }
   },
   "cell_type": "code",
   "source": "d[\"key1\"]",
   "id": "259f7e2ed2f68d8e",
   "outputs": [
    {
     "data": {
      "text/plain": [
       "'value1'"
      ]
     },
     "execution_count": 5,
     "metadata": {},
     "output_type": "execute_result"
    }
   ],
   "execution_count": 5
  },
  {
   "metadata": {
    "ExecuteTime": {
     "end_time": "2024-08-02T17:14:34.680739Z",
     "start_time": "2024-08-02T17:14:34.329235Z"
    }
   },
   "cell_type": "code",
   "source": "d.key1",
   "id": "920ea5e3ab4f89af",
   "outputs": [
    {
     "ename": "AttributeError",
     "evalue": "'dict' object has no attribute 'key1'",
     "output_type": "error",
     "traceback": [
      "\u001B[1;31m---------------------------------------------------------------------------\u001B[0m",
      "\u001B[1;31mAttributeError\u001B[0m                            Traceback (most recent call last)",
      "Cell \u001B[1;32mIn[6], line 1\u001B[0m\n\u001B[1;32m----> 1\u001B[0m \u001B[43md\u001B[49m\u001B[38;5;241;43m.\u001B[39;49m\u001B[43mkey1\u001B[49m\n",
      "\u001B[1;31mAttributeError\u001B[0m: 'dict' object has no attribute 'key1'"
     ]
    }
   ],
   "execution_count": 6
  },
  {
   "metadata": {
    "ExecuteTime": {
     "end_time": "2024-08-02T17:16:44.598798Z",
     "start_time": "2024-08-02T17:16:44.487289Z"
    }
   },
   "cell_type": "code",
   "source": "from box import ConfigBox",
   "id": "7ad60e9398f2ffaf",
   "outputs": [],
   "execution_count": 7
  },
  {
   "metadata": {
    "ExecuteTime": {
     "end_time": "2024-08-02T17:17:07.676469Z",
     "start_time": "2024-08-02T17:17:07.540628Z"
    }
   },
   "cell_type": "code",
   "source": "d2 = ConfigBox(d)",
   "id": "ff74d9ca5dfaaa83",
   "outputs": [],
   "execution_count": 8
  },
  {
   "metadata": {
    "ExecuteTime": {
     "end_time": "2024-08-02T17:17:24.220641Z",
     "start_time": "2024-08-02T17:17:24.215171Z"
    }
   },
   "cell_type": "code",
   "source": "type(d)",
   "id": "2d72aa4afd41d7a7",
   "outputs": [
    {
     "data": {
      "text/plain": [
       "dict"
      ]
     },
     "execution_count": 10,
     "metadata": {},
     "output_type": "execute_result"
    }
   ],
   "execution_count": 10
  },
  {
   "metadata": {
    "ExecuteTime": {
     "end_time": "2024-08-02T17:17:29.405539Z",
     "start_time": "2024-08-02T17:17:29.401442Z"
    }
   },
   "cell_type": "code",
   "source": "type(d2)",
   "id": "d933379d2060df4c",
   "outputs": [
    {
     "data": {
      "text/plain": [
       "box.config_box.ConfigBox"
      ]
     },
     "execution_count": 11,
     "metadata": {},
     "output_type": "execute_result"
    }
   ],
   "execution_count": 11
  },
  {
   "metadata": {
    "ExecuteTime": {
     "end_time": "2024-08-02T17:17:45.449836Z",
     "start_time": "2024-08-02T17:17:45.442527Z"
    }
   },
   "cell_type": "code",
   "source": "d2.key1",
   "id": "eebc56ebb40ee9f1",
   "outputs": [
    {
     "data": {
      "text/plain": [
       "'value1'"
      ]
     },
     "execution_count": 12,
     "metadata": {},
     "output_type": "execute_result"
    }
   ],
   "execution_count": 12
  },
  {
   "metadata": {},
   "cell_type": "code",
   "outputs": [],
   "execution_count": null,
   "source": "",
   "id": "78a5d73ca0cebb3a"
  }
 ],
 "metadata": {
  "kernelspec": {
   "display_name": "Python 3",
   "language": "python",
   "name": "python3"
  },
  "language_info": {
   "codemirror_mode": {
    "name": "ipython",
    "version": 2
   },
   "file_extension": ".py",
   "mimetype": "text/x-python",
   "name": "python",
   "nbconvert_exporter": "python",
   "pygments_lexer": "ipython2",
   "version": "2.7.6"
  }
 },
 "nbformat": 4,
 "nbformat_minor": 5
}
